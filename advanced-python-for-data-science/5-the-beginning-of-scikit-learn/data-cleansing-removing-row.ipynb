{
 "cells": [
  {
   "cell_type": "code",
   "execution_count": 2,
   "metadata": {},
   "outputs": [
    {
     "name": "stdout",
     "output_type": "stream",
     "text": [
      "     A    B     C\n",
      "0  2.0  6.0  10.0\n",
      "1  4.0  8.0  12.0\n"
     ]
    }
   ],
   "source": [
    "import pandas as pd\n",
    "from numpy import nan as NA\n",
    "\n",
    "a = pd.Series([2,NA,4,5])\n",
    "b = pd.Series([6,7,8,NA])\n",
    "c = pd.Series([10,NA,12,13])\n",
    "\n",
    "data = pd.DataFrame({'A':a, 'B':b, 'C':c})\n",
    "dataclean = data.dropna()\n",
    "dataclean = dataclean.reset_index(drop=True)\n",
    "print(dataclean)\n"
   ]
  },
  {
   "cell_type": "code",
   "execution_count": 8,
   "metadata": {},
   "outputs": [
    {
     "name": "stdout",
     "output_type": "stream",
     "text": [
      "0    False\n",
      "1     True\n",
      "2     True\n",
      "3    False\n",
      "4    False\n",
      "5     True\n",
      "6     True\n",
      "7    False\n",
      "8    False\n",
      "dtype: bool\n",
      "    A   B   C\n",
      "0   1   2   3\n",
      "1   4   5   6\n",
      "3   7   8   9\n",
      "4   7  18   9\n",
      "5  10  11  12\n",
      "7  13  14  15\n",
      "8  16  17   9\n"
     ]
    }
   ],
   "source": [
    "import pandas as pd\n",
    "\n",
    "a = pd.Series([1,4,4,7,7,10,10,13,16])\n",
    "b = pd.Series([2,5,5,8,18,11,11,14,17])\n",
    "c = pd.Series([3,6,6,9,9,12,12,15,9])\n",
    "\n",
    "data = pd.DataFrame({'A':a, 'B':b, 'C':c})\n",
    "print(data.duplicated(keep=False))\n",
    "\n",
    "data.drop_duplicates(inplace=True)\n",
    "print(data)"
   ]
  }
 ],
 "metadata": {
  "kernelspec": {
   "display_name": "Python 3",
   "language": "python",
   "name": "python3"
  },
  "language_info": {
   "codemirror_mode": {
    "name": "ipython",
    "version": 3
   },
   "file_extension": ".py",
   "mimetype": "text/x-python",
   "name": "python",
   "nbconvert_exporter": "python",
   "pygments_lexer": "ipython3",
   "version": "3.10.13"
  }
 },
 "nbformat": 4,
 "nbformat_minor": 2
}
