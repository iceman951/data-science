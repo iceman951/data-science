{
 "cells": [
  {
   "cell_type": "code",
   "execution_count": 3,
   "metadata": {},
   "outputs": [
    {
     "name": "stdout",
     "output_type": "stream",
     "text": [
      "     A    B     C\n",
      "0  2.0  6.0  10.0\n",
      "1  NaN  7.0   NaN\n",
      "2  4.0  8.0  12.0\n",
      "3  5.0  NaN  13.0\n",
      "          A    B          C\n",
      "0  2.000000  6.0  10.000000\n",
      "1  3.666667  7.0  11.666667\n",
      "2  4.000000  8.0  12.000000\n",
      "3  5.000000  7.0  13.000000\n"
     ]
    }
   ],
   "source": [
    "import pandas as pd\n",
    "from numpy import nan as NA\n",
    "\n",
    "a = pd.Series([2,NA,4,5])\n",
    "b = pd.Series([6,7,8,NA])\n",
    "c = pd.Series([10,NA,12,13])\n",
    "\n",
    "# Fill NA Data\n",
    "data = pd.DataFrame({'A':a, 'B':b, 'C':c})\n",
    "print(data)\n",
    "dataMean = data.fillna(data.mean())\n",
    "print(dataMean)"
   ]
  }
 ],
 "metadata": {
  "kernelspec": {
   "display_name": "Python 3",
   "language": "python",
   "name": "python3"
  },
  "language_info": {
   "codemirror_mode": {
    "name": "ipython",
    "version": 3
   },
   "file_extension": ".py",
   "mimetype": "text/x-python",
   "name": "python",
   "nbconvert_exporter": "python",
   "pygments_lexer": "ipython3",
   "version": "3.10.13"
  }
 },
 "nbformat": 4,
 "nbformat_minor": 2
}
