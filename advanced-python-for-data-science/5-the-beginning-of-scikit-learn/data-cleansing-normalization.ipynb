{
 "cells": [
  {
   "cell_type": "code",
   "execution_count": 1,
   "metadata": {},
   "outputs": [
    {
     "name": "stdout",
     "output_type": "stream",
     "text": [
      "          a         b\n",
      "0  1.000000  0.000000\n",
      "1  0.333333  0.333333\n",
      "2  0.666667  0.444444\n",
      "3  0.000000  1.000000\n"
     ]
    }
   ],
   "source": [
    "import pandas as pd\n",
    "from sklearn import preprocessing\n",
    "\n",
    "a = pd.Series([1000,400,700,100])\n",
    "b = pd.Series([2,5,6,11])\n",
    "\n",
    "data = pd.DataFrame({'a':a, 'b':b})\n",
    "\n",
    "mm = preprocessing.MinMaxScaler()\n",
    "newvalie = mm.fit_transform(data)\n",
    "data = pd.DataFrame(newvalie, columns=data.columns)\n",
    "\n",
    "print(data)"
   ]
  }
 ],
 "metadata": {
  "kernelspec": {
   "display_name": "Python 3",
   "language": "python",
   "name": "python3"
  },
  "language_info": {
   "codemirror_mode": {
    "name": "ipython",
    "version": 3
   },
   "file_extension": ".py",
   "mimetype": "text/x-python",
   "name": "python",
   "nbconvert_exporter": "python",
   "pygments_lexer": "ipython3",
   "version": "3.10.13"
  }
 },
 "nbformat": 4,
 "nbformat_minor": 2
}
