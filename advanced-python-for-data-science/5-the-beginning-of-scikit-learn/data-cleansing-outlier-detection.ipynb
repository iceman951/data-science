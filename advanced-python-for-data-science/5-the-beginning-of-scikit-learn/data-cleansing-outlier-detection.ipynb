{
 "cells": [
  {
   "cell_type": "code",
   "execution_count": 1,
   "metadata": {},
   "outputs": [
    {
     "name": "stdout",
     "output_type": "stream",
     "text": [
      "    family  father  mother sex  height  nkids\n",
      "0        1    78.5    67.0   M    73.2      4\n",
      "1        1    78.5    67.0   F    69.2      4\n",
      "2        1    78.5    67.0   F    69.0      4\n",
      "3        1    78.5    67.0   F    69.0      4\n",
      "4        2    75.5    66.5   M    73.5      4\n",
      "..     ...     ...     ...  ..     ...    ...\n",
      "893   136A    68.5    65.0   M    68.5      8\n",
      "894   136A    68.5    65.0   M    67.7      8\n",
      "895   136A    68.5    65.0   F    64.0      8\n",
      "896   136A    68.5    65.0   F    63.5      8\n",
      "897   136A    68.5    65.0   F    63.0      8\n",
      "\n",
      "[898 rows x 6 columns]\n"
     ]
    }
   ],
   "source": [
    "import pandas as pd\n",
    "import numpy as np\n",
    "df = pd.read_csv('http://www.mosaic-web.org/go/datasets/galton.csv')\n",
    "print(df)"
   ]
  },
  {
   "cell_type": "code",
   "execution_count": 4,
   "metadata": {},
   "outputs": [
    {
     "name": "stdout",
     "output_type": "stream",
     "text": [
      "    family  father  mother sex  height  nkids\n",
      "125     35    71.0    69.0   M    78.0      5\n",
      "    family  father  mother sex  height  nkids\n",
      "288     72    70.0    65.0   M    79.0      7\n",
      "    family  father  mother sex  height  nkids\n",
      "672    155    68.0    60.0   F    56.0      7\n",
      "\n"
     ]
    }
   ],
   "source": [
    "import pandas as pd\n",
    "import numpy as np\n",
    "df = pd.read_csv('http://www.mosaic-web.org/go/datasets/galton.csv')\n",
    "\n",
    "\n",
    "def z_score(high):\n",
    "    outlierlimit = 3\n",
    "    m = np.mean(high)\n",
    "    sd = np.std(high)\n",
    "    z = [(x - m) / sd for x in high]\n",
    "    return np.where(np.abs(z) > outlierlimit)\n",
    "\n",
    "for i in z_score(df['height'])[0]:\n",
    "    print(df[i:i+1])\n",
    "print()"
   ]
  }
 ],
 "metadata": {
  "kernelspec": {
   "display_name": "Python 3",
   "language": "python",
   "name": "python3"
  },
  "language_info": {
   "codemirror_mode": {
    "name": "ipython",
    "version": 3
   },
   "file_extension": ".py",
   "mimetype": "text/x-python",
   "name": "python",
   "nbconvert_exporter": "python",
   "pygments_lexer": "ipython3",
   "version": "3.10.13"
  }
 },
 "nbformat": 4,
 "nbformat_minor": 2
}
