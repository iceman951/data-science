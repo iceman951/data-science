{
 "cells": [
  {
   "cell_type": "code",
   "execution_count": null,
   "metadata": {},
   "outputs": [],
   "source": [
    "import pandas as pd\n",
    "df = pd.read_csv('path/to/your/csv/file.csv')\n",
    "print(df)\n",
    "print(df.isnull) # returns a boolean value for each element in the DataFrame\n",
    "print(df.isnull().sum()) # returns the number of missing values in each column\n",
    "\n",
    "print(df.corr().abs().nlargest(3, 'price').index) # returns the 3 columns with the highest correlation to the price column"
   ]
  }
 ],
 "metadata": {
  "language_info": {
   "name": "python"
  }
 },
 "nbformat": 4,
 "nbformat_minor": 2
}
