{
 "cells": [
  {
   "cell_type": "code",
   "execution_count": null,
   "metadata": {},
   "outputs": [],
   "source": [
    "import pandas as pd\n",
    "\n",
    "# read_csv online bmi for k-mean ckuster\n",
    "df = pd.read_csv('https://mock.koompi.org/bmi.csv')\n",
    "print(df.head())\n",
    "\n",
    "df.isnull().sum()\n",
    "\n",
    "df = df.dropna(subset=['bmxleg', 'bmxwaist'])\n",
    "print(df.shape)\n",
    "\n",
    "\n"
   ]
  },
  {
   "cell_type": "code",
   "execution_count": null,
   "metadata": {},
   "outputs": [],
   "source": [
    "import pandas as pd\n",
    "import matplotlib.pyplot as plt\n",
    "from sklearn.cluster import KMeans\n",
    "\n",
    "df = pd.read_csv('https://mock.koompi.org/bmi.csv')\n",
    "df = df.dropna(subset=['bmxleg', 'bmxwaist'])\n",
    "\n",
    "plt.scatter(df['bmxleg'], df['bmxwaist'], c='r')\n",
    "plt.xlabel('Upper leg length (cm)')\n",
    "plt.ylabel('Waist circumference (cm)')"
   ]
  },
  {
   "cell_type": "code",
   "execution_count": null,
   "metadata": {},
   "outputs": [],
   "source": [
    "import pandas as pd\n",
    "import numpy as np\n",
    "import matplotlib.pyplot as plt\n",
    "from sklearn.cluster import KMeans\n",
    "from sklearn import metrics\n",
    "\n",
    "df = pd.read_csv('https://mock.koompi.org/bmi.csv')\n",
    "df = df.dropna(subset=['bmxleg', 'bmxwaist'])\n",
    "\n",
    "k = 2\n",
    "x = np.array(list(zip(df['bmxleg'], df['bmxwaist'])))\n",
    "kmeans = KMeans(n_clusters=k)\n",
    "kmeans = kmeans.fit(x)\n",
    "labels = kmeans.predict(x)\n",
    "centroids = kmeans.cluster_centers_\n",
    "c = ['b', 'r']\n",
    "colors = [c[i] for i in labels]\n",
    "plt.scatter(df['bmxleg'], df['bmxwaist'], c=colors)\n",
    "plt.scatter(centroids[:, 0], centroids[:, 1], c='black', s=100, marker='x')\n",
    "\n",
    "print(centroids)"
   ]
  }
 ],
 "metadata": {
  "language_info": {
   "name": "python"
  }
 },
 "nbformat": 4,
 "nbformat_minor": 2
}
